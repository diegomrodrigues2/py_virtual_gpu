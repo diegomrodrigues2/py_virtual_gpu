{
 "cells": [
  {
   "cell_type": "code",
   "execution_count": 1,
   "id": "a9684a59",
   "metadata": {},
   "outputs": [],
   "source": [
    "from py_virtual_gpu import VirtualGPU, syncthreads\n",
    "from py_virtual_gpu.services import get_gpu_manager\n",
    "from py_virtual_gpu.api.server import start_background_api\n",
    "from py_virtual_gpu.kernel import kernel\n",
    "from py_virtual_gpu.thread import get_current_thread"
   ]
  },
  {
   "cell_type": "code",
   "execution_count": 2,
   "id": "f2a31f24",
   "metadata": {},
   "outputs": [],
   "source": [
    "@kernel\n",
    "def reduce_sum_kernel(threadIdx, blockIdx, blockDim, gridDim, in_ptr, out_ptr):\n",
    "    ctx = get_current_thread()\n",
    "    shared_mem = ctx.shared_mem\n",
    "    tx = threadIdx[0]\n",
    "    shared_mem.write(tx * 4, in_ptr[tx])\n",
    "    syncthreads()\n",
    "\n",
    "    stride = blockDim[0] // 2\n",
    "    while stride > 0:\n",
    "        if tx < stride:\n",
    "            a = int.from_bytes(shared_mem.read(tx * 4, 4), \"little\", signed=True)\n",
    "            b = int.from_bytes(shared_mem.read((tx + stride) * 4, 4), \"little\", signed=True)\n",
    "            shared_mem.write(tx * 4, (a + b).to_bytes(4, \"little\", signed=True))\n",
    "        syncthreads()\n",
    "        stride //= 2\n",
    "\n",
    "    if tx == 0:\n",
    "        out_ptr[0] = shared_mem.read(0, 4)"
   ]
  },
  {
   "cell_type": "code",
   "execution_count": 3,
   "id": "d90996c3",
   "metadata": {},
   "outputs": [],
   "source": [
    "def host_reduce(vals):\n",
    "    total = 0\n",
    "    for v in vals:\n",
    "        total += v\n",
    "    return total"
   ]
  },
  {
   "cell_type": "code",
   "execution_count": 4,
   "id": "62b1321e",
   "metadata": {},
   "outputs": [
    {
     "name": "stderr",
     "output_type": "stream",
     "text": [
      "INFO:     Started server process [22356]\n",
      "INFO:     Waiting for application startup.\n",
      "INFO:     Application startup complete.\n",
      "INFO:     Uvicorn running on http://127.0.0.1:8001 (Press CTRL+C to quit)\n"
     ]
    }
   ],
   "source": [
    "from py_virtual_gpu.api.server import start_background_api, start_background_dashboard\n",
    "api_thread, ui_proc, stop = start_background_dashboard(port=8001)"
   ]
  },
  {
   "cell_type": "code",
   "execution_count": 5,
   "id": "5d75da16",
   "metadata": {},
   "outputs": [
    {
     "data": {
      "text/plain": [
       "<py_virtual_gpu.virtualgpu.VirtualGPU at 0x235912312d0>"
      ]
     },
     "execution_count": 5,
     "metadata": {},
     "output_type": "execute_result"
    }
   ],
   "source": [
    "values = [1, 2, 3, 4, 5, 6, 7, 8]\n",
    "gpu = get_gpu_manager().get_gpu(0)\n",
    "gpu"
   ]
  },
  {
   "cell_type": "code",
   "execution_count": 11,
   "id": "f60503d8",
   "metadata": {},
   "outputs": [
    {
     "name": "stdout",
     "output_type": "stream",
     "text": [
      "Platform: Windows\n",
      "Running kernel test...\n",
      "Thread 0 executed successfully!\n",
      "Thread 1 executed successfully!\n",
      "Test completed successfully!\n"
     ]
    }
   ],
   "source": [
    "from py_virtual_gpu import VirtualGPU\n",
    "from py_virtual_gpu.kernel import kernel\n",
    "import platform\n",
    "\n",
    "print('Platform:', platform.system())\n",
    "\n",
    "gpu = VirtualGPU(num_sms=1, global_mem_size=1024)\n",
    "VirtualGPU.set_current(gpu)\n",
    "\n",
    "@kernel(grid_dim=(1, 1, 1), block_dim=(2, 1, 1))\n",
    "def test_kernel(threadIdx, blockIdx, blockDim, gridDim):\n",
    "    print(f'Thread {threadIdx[0]} executed successfully!')\n",
    "\n",
    "print('Running kernel test...')\n",
    "test_kernel()\n",
    "gpu.synchronize()\n",
    "print('Test completed successfully!')"
   ]
  },
  {
   "cell_type": "code",
   "execution_count": 6,
   "id": "3720f732",
   "metadata": {},
   "outputs": [],
   "source": [
    "VirtualGPU.set_current(gpu)\n",
    "in_bytes = b\"\".join(v.to_bytes(4, \"little\", signed=True) for v in values)\n",
    "\n",
    "in_ptr = gpu.malloc(len(in_bytes))\n",
    "out_ptr = gpu.malloc(4)\n",
    "\n",
    "gpu.memcpy_host_to_device(in_bytes, in_ptr)"
   ]
  },
  {
   "cell_type": "code",
   "execution_count": 7,
   "id": "ac3a3e64",
   "metadata": {},
   "outputs": [],
   "source": [
    "reduce_sum_kernel(\n",
    "    in_ptr,\n",
    "    out_ptr,\n",
    "    grid_dim=(1, 1, 1),\n",
    "    block_dim=(len(values), 1, 1),\n",
    ")"
   ]
  },
  {
   "cell_type": "code",
   "execution_count": 8,
   "id": "6b866d98",
   "metadata": {},
   "outputs": [
    {
     "name": "stderr",
     "output_type": "stream",
     "text": [
      "Exception in thread Exception in thread Thread-7 (run):\n",
      "Traceback (most recent call last):\n",
      "  File \"C:\\Users\\diego.rodrigues\\AppData\\Local\\anaconda3\\Lib\\threading.py\", line 1038, in _bootstrap_inner\n",
      "Thread-6 (run):\n",
      "Traceback (most recent call last):\n",
      "  File \"C:\\Users\\diego.rodrigues\\AppData\\Local\\anaconda3\\Lib\\threading.py\", line 1038, in _bootstrap_inner\n",
      "Exception in thread Thread-8 (run):\n",
      "Traceback (most recent call last):\n",
      "  File \"C:\\Users\\diego.rodrigues\\AppData\\Local\\anaconda3\\Lib\\threading.py\", line 1038, in _bootstrap_inner\n",
      "Exception in thread Thread-9 (run):\n",
      "Traceback (most recent call last):\n",
      "  File \"C:\\Users\\diego.rodrigues\\AppData\\Local\\anaconda3\\Lib\\threading.py\", line 1038, in _bootstrap_inner\n",
      "    self.run()\n",
      "  File \"C:\\Users\\diego.rodrigues\\AppData\\Local\\anaconda3\\Lib\\threading.py\", line 975, in run\n",
      "Exception in thread Thread-10 (run):\n",
      "Traceback (most recent call last):\n",
      "  File \"C:\\Users\\diego.rodrigues\\AppData\\Local\\anaconda3\\Lib\\threading.py\", line 1038, in _bootstrap_inner\n",
      "    self.run()\n",
      "  File \"C:\\Users\\diego.rodrigues\\AppData\\Local\\anaconda3\\Lib\\threading.py\", line 975, in run\n",
      "Exception in thread Thread-11 (run):\n",
      "Traceback (most recent call last):\n",
      "  File \"C:\\Users\\diego.rodrigues\\AppData\\Local\\anaconda3\\Lib\\threading.py\", line 1038, in _bootstrap_inner\n",
      "    self.run()\n",
      "  File \"C:\\Users\\diego.rodrigues\\AppData\\Local\\anaconda3\\Lib\\threading.py\", line 975, in run\n",
      "    self._target(*self._args, **self._kwargs)\n",
      "  File \"C:\\Code\\py_virtual_gpu\\py_virtual_gpu\\thread.py\", line 166, in run\n",
      "    self.run()\n",
      "  File \"C:\\Users\\diego.rodrigues\\AppData\\Local\\anaconda3\\Lib\\threading.py\", line 975, in run\n",
      "    self._target(*self._args, **self._kwargs)\n",
      "  File \"C:\\Code\\py_virtual_gpu\\py_virtual_gpu\\thread.py\", line 166, in run\n",
      "    self.run()\n",
      "  File \"C:\\Users\\diego.rodrigues\\AppData\\Local\\anaconda3\\Lib\\threading.py\", line 975, in run\n",
      "Exception in thread Thread-12 (run):\n",
      "Traceback (most recent call last):\n",
      "  File \"C:\\Users\\diego.rodrigues\\AppData\\Local\\anaconda3\\Lib\\threading.py\", line 1038, in _bootstrap_inner\n",
      "    self.run()\n",
      "  File \"C:\\Users\\diego.rodrigues\\AppData\\Local\\anaconda3\\Lib\\threading.py\", line 975, in run\n",
      "    self._target(*self._args, **self._kwargs)\n",
      "  File \"C:\\Code\\py_virtual_gpu\\py_virtual_gpu\\thread.py\", line 166, in run\n",
      "    return kernel_func(threadIdx, blockIdx, blockDim, gridDim, *user_args, **kwargs)\n",
      "           ^^^^^^^^^^^^^^^^^^^^^^^^^^^^^^^^^^^^^^^^^^^^^^^^^^^^^^^^^^^^^^^^^^^^^^^^^\n",
      "  File \"C:\\Users\\diego.rodrigues\\AppData\\Local\\Temp\\ipykernel_22356\\2935625693.py\", line 6, in reduce_sum_kernel\n",
      "Exception in thread Thread-13 (run):\n",
      "Traceback (most recent call last):\n",
      "  File \"C:\\Users\\diego.rodrigues\\AppData\\Local\\anaconda3\\Lib\\threading.py\", line 1038, in _bootstrap_inner\n",
      "    self._target(*self._args, **self._kwargs)\n",
      "  File \"C:\\Code\\py_virtual_gpu\\py_virtual_gpu\\thread.py\", line 166, in run\n",
      "    return kernel_func(threadIdx, blockIdx, blockDim, gridDim, *user_args, **kwargs)\n",
      "           ^^^^^^^^^^^^^^^^^^^^^^^^^^^^^^^^^^^^^^^^^^^^^^^^^^^^^^^^^^^^^^^^^^^^^^^^^\n",
      "  File \"C:\\Users\\diego.rodrigues\\AppData\\Local\\Temp\\ipykernel_22356\\2935625693.py\", line 6, in reduce_sum_kernel\n",
      "    self.run()\n",
      "  File \"C:\\Users\\diego.rodrigues\\AppData\\Local\\anaconda3\\Lib\\threading.py\", line 975, in run\n",
      "    self._target(*self._args, **self._kwargs)\n",
      "  File \"C:\\Code\\py_virtual_gpu\\py_virtual_gpu\\thread.py\", line 166, in run\n",
      "    self._target(*self._args, **self._kwargs)\n",
      "  File \"C:\\Code\\py_virtual_gpu\\py_virtual_gpu\\thread.py\", line 166, in run\n",
      "    self.run()\n",
      "  File \"C:\\Users\\diego.rodrigues\\AppData\\Local\\anaconda3\\Lib\\threading.py\", line 975, in run\n",
      "    return kernel_func(threadIdx, blockIdx, blockDim, gridDim, *user_args, **kwargs)\n",
      "           ^^^^^^^^^^^^^^^^^^^^^^^^^^^^^^^^^^^^^^^^^^^^^^^^^^^^^^^^^^^^^^^^^^^^^^^^^\n",
      "  File \"C:\\Users\\diego.rodrigues\\AppData\\Local\\Temp\\ipykernel_22356\\2935625693.py\", line 6, in reduce_sum_kernel\n",
      "    self._target(*self._args, **self._kwargs)\n",
      "  File \"C:\\Code\\py_virtual_gpu\\py_virtual_gpu\\thread.py\", line 166, in run\n",
      "    return kernel_func(threadIdx, blockIdx, blockDim, gridDim, *user_args, **kwargs)\n",
      "           ^^^^^^^^^^^^^^^^^^^^^^^^^^^^^^^^^^^^^^^^^^^^^^^^^^^^^^^^^^^^^^^^^^^^^^^^^\n",
      "  File \"C:\\Users\\diego.rodrigues\\AppData\\Local\\Temp\\ipykernel_22356\\2935625693.py\", line 6, in reduce_sum_kernel\n",
      "    return kernel_func(threadIdx, blockIdx, blockDim, gridDim, *user_args, **kwargs)\n",
      "           ^^^^^^^^^^^^^^^^^^^^^^^^^^^^^^^^^^^^^^^^^^^^^^^^^^^^^^^^^^^^^^^^^^^^^^^^^\n",
      "  File \"C:\\Users\\diego.rodrigues\\AppData\\Local\\Temp\\ipykernel_22356\\2935625693.py\", line 6, in reduce_sum_kernel\n",
      "    return kernel_func(threadIdx, blockIdx, blockDim, gridDim, *user_args, **kwargs)\n",
      "           ^^^^^^^^^^^^^^^^^^^^^^^^^^^^^^^^^^^^^^^^^^^^^^^^^^^^^^^^^^^^^^^^^^^^^^^^^\n",
      "  File \"C:\\Users\\diego.rodrigues\\AppData\\Local\\Temp\\ipykernel_22356\\2935625693.py\", line 6, in reduce_sum_kernel\n",
      "    self._target(*self._args, **self._kwargs)\n",
      "  File \"C:\\Code\\py_virtual_gpu\\py_virtual_gpu\\thread.py\", line 166, in run\n",
      "    return kernel_func(threadIdx, blockIdx, blockDim, gridDim, *user_args, **kwargs)\n",
      "           ^^^^^^^^^^^^^^^^^^^^^^^^^^^^^^^^^^^^^^^^^^^^^^^^^^^^^^^^^^^^^^^^^^^^^^^^^\n",
      "  File \"C:\\Users\\diego.rodrigues\\AppData\\Local\\Temp\\ipykernel_22356\\2935625693.py\", line 6, in reduce_sum_kernel\n",
      "    return kernel_func(threadIdx, blockIdx, blockDim, gridDim, *user_args, **kwargs)\n",
      "           ^^^^^^^^^^^^^^^^^^^^^^^^^^^^^^^^^^^^^^^^^^^^^^^^^^^^^^^^^^^^^^^^^^^^^^^^^\n",
      "  File \"C:\\Users\\diego.rodrigues\\AppData\\Local\\Temp\\ipykernel_22356\\2935625693.py\", line 6, in reduce_sum_kernel\n",
      "  File \"C:\\Code\\py_virtual_gpu\\py_virtual_gpu\\shared_memory.py\", line 48, in write\n",
      "  File \"C:\\Code\\py_virtual_gpu\\py_virtual_gpu\\shared_memory.py\", line 48, in write\n",
      "  File \"C:\\Code\\py_virtual_gpu\\py_virtual_gpu\\shared_memory.py\", line 48, in write\n",
      "  File \"C:\\Code\\py_virtual_gpu\\py_virtual_gpu\\shared_memory.py\", line 48, in write\n",
      "  File \"C:\\Code\\py_virtual_gpu\\py_virtual_gpu\\shared_memory.py\", line 48, in write\n",
      "  File \"C:\\Code\\py_virtual_gpu\\py_virtual_gpu\\shared_memory.py\", line 48, in write\n",
      "    raise IndexError(\"SharedMemory write out of bounds\")\n",
      "IndexError: SharedMemory write out of bounds\n",
      "    raise IndexError(\"SharedMemory write out of bounds\")\n",
      "IndexError: SharedMemory write out of bounds\n",
      "  File \"C:\\Code\\py_virtual_gpu\\py_virtual_gpu\\shared_memory.py\", line 48, in write\n",
      "    raise IndexError(\"SharedMemory write out of bounds\")\n",
      "IndexError: SharedMemory write out of bounds\n",
      "  File \"C:\\Code\\py_virtual_gpu\\py_virtual_gpu\\shared_memory.py\", line 48, in write\n",
      "    raise IndexError(\"SharedMemory write out of bounds\")\n",
      "IndexError: SharedMemory write out of bounds\n",
      "    raise IndexError(\"SharedMemory write out of bounds\")\n",
      "IndexError: SharedMemory write out of bounds\n",
      "    raise IndexError(\"SharedMemory write out of bounds\")\n",
      "IndexError: SharedMemory write out of bounds\n",
      "    raise IndexError(\"SharedMemory write out of bounds\")\n",
      "IndexError: SharedMemory write out of bounds\n",
      "    raise IndexError(\"SharedMemory write out of bounds\")\n",
      "IndexError: SharedMemory write out of bounds\n"
     ]
    },
    {
     "name": "stdout",
     "output_type": "stream",
     "text": [
      "Kernel result: 0\n",
      "Host result: 36\n"
     ]
    }
   ],
   "source": [
    "gpu.synchronize()\n",
    "\n",
    "out = gpu.memcpy_device_to_host(out_ptr, 4)\n",
    "result = int.from_bytes(out, \"little\", signed=True)\n",
    "expected = host_reduce(values)\n",
    "\n",
    "print(\"Kernel result:\", result)\n",
    "print(\"Host result:\", expected)"
   ]
  },
  {
   "cell_type": "code",
   "execution_count": null,
   "id": "26a91e04",
   "metadata": {},
   "outputs": [],
   "source": []
  }
 ],
 "metadata": {
  "kernelspec": {
   "display_name": "Python 3 (ipykernel)",
   "language": "python",
   "name": "python3"
  },
  "language_info": {
   "codemirror_mode": {
    "name": "ipython",
    "version": 3
   },
   "file_extension": ".py",
   "mimetype": "text/x-python",
   "name": "python",
   "nbconvert_exporter": "python",
   "pygments_lexer": "ipython3",
   "version": "3.11.5"
  }
 },
 "nbformat": 4,
 "nbformat_minor": 5
}
